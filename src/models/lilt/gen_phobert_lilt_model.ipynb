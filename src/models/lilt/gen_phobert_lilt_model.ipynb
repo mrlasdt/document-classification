{
 "cells": [
  {
   "cell_type": "code",
   "execution_count": null,
   "metadata": {},
   "outputs": [],
   "source": []
  }
 ],
 "metadata": {
  "kernelspec": {
   "display_name": "Python 3",
   "language": "python",
   "name": "python3"
  },
  "language_info": {
   "name": "python",
   "version": "3.9.7 (default, Sep 16 2021, 13:09:58) \n[GCC 7.5.0]"
  },
  "orig_nbformat": 4,
  "vscode": {
   "interpreter": {
    "hash": "20c6f48f3d5b3ec1e24b93f48134dec8e918927c6339231ad9e226a930b74e39"
   }
  }
 },
 "nbformat": 4,
 "nbformat_minor": 2
}
