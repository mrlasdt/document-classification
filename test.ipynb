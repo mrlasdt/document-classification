{
 "cells": [
  {
   "cell_type": "code",
   "execution_count": 1,
   "metadata": {},
   "outputs": [],
   "source": [
    "import ssl\n",
    "ssl._create_default_https_context = ssl._create_unverified_context"
   ]
  },
  {
   "cell_type": "code",
   "execution_count": 7,
   "metadata": {},
   "outputs": [
    {
     "data": {
      "application/vnd.jupyter.widget-view+json": {
       "model_id": "63cfaf3c8bc0432e8242861032f606b5",
       "version_major": 2,
       "version_minor": 0
      },
      "text/plain": [
       "Downloading:   0%|          | 0.00/557 [00:00<?, ?B/s]"
      ]
     },
     "metadata": {},
     "output_type": "display_data"
    },
    {
     "data": {
      "application/vnd.jupyter.widget-view+json": {
       "model_id": "aa8a95bfa81e428fa1e8a3336d5e73c6",
       "version_major": 2,
       "version_minor": 0
      },
      "text/plain": [
       "Downloading:   0%|          | 0.00/895k [00:00<?, ?B/s]"
      ]
     },
     "metadata": {},
     "output_type": "display_data"
    },
    {
     "data": {
      "application/vnd.jupyter.widget-view+json": {
       "model_id": "c5ca3f45f0434ebbba69619e852e0512",
       "version_major": 2,
       "version_minor": 0
      },
      "text/plain": [
       "Downloading:   0%|          | 0.00/1.14M [00:00<?, ?B/s]"
      ]
     },
     "metadata": {},
     "output_type": "display_data"
    },
    {
     "name": "stderr",
     "output_type": "stream",
     "text": [
      "Special tokens have been added in the vocabulary, make sure the associated word embeddings are fine-tuned or trained.\n"
     ]
    }
   ],
   "source": [
    "from transformers import AutoModel, AutoTokenizer\n",
    "import torch\n",
    "tokenizer = AutoTokenizer.from_pretrained(\"vinai/phobert-base\")\n"
   ]
  },
  {
   "cell_type": "code",
   "execution_count": 11,
   "metadata": {},
   "outputs": [],
   "source": [
    "encoding = tokenizer(\"Mong một ngày mai bình minh\", truncation=True)\n",
    "encoding"
   ]
  },
  {
   "cell_type": "code",
   "execution_count": 13,
   "metadata": {},
   "outputs": [
    {
     "data": {
      "text/plain": [
       "('/mnt/ssd500/hungbnt/DocumentClassification/weights/lilt/phobert_tokebizer/tokenizer_config.json',\n",
       " '/mnt/ssd500/hungbnt/DocumentClassification/weights/lilt/phobert_tokebizer/special_tokens_map.json',\n",
       " '/mnt/ssd500/hungbnt/DocumentClassification/weights/lilt/phobert_tokebizer/vocab.txt',\n",
       " '/mnt/ssd500/hungbnt/DocumentClassification/weights/lilt/phobert_tokebizer/bpe.codes',\n",
       " '/mnt/ssd500/hungbnt/DocumentClassification/weights/lilt/phobert_tokebizer/added_tokens.json')"
      ]
     },
     "execution_count": 13,
     "metadata": {},
     "output_type": "execute_result"
    }
   ],
   "source": [
    "tokenizer.save_pretrained(\"/mnt/ssd500/hungbnt/DocumentClassification/weights/lilt/phobert_tokebizer\")"
   ]
  },
  {
   "cell_type": "code",
   "execution_count": 4,
   "metadata": {},
   "outputs": [
    {
     "data": {
      "application/vnd.jupyter.widget-view+json": {
       "model_id": "9e27c662cb254fd396cf5a67e94d0f58",
       "version_major": 2,
       "version_minor": 0
      },
      "text/plain": [
       "Downloading:   0%|          | 0.00/275 [00:00<?, ?B/s]"
      ]
     },
     "metadata": {},
     "output_type": "display_data"
    },
    {
     "name": "stderr",
     "output_type": "stream",
     "text": [
      "/home/sds/miniconda3/envs/hungbnt_kie_no_mmocr/lib/python3.9/site-packages/transformers/models/layoutlmv3/feature_extraction_layoutlmv3.py:30: FutureWarning: The class LayoutLMv3FeatureExtractor is deprecated and will be removed in version 5 of Transformers. Please use LayoutLMv3ImageProcessor instead.\n",
      "  warnings.warn(\n"
     ]
    },
    {
     "data": {
      "application/vnd.jupyter.widget-view+json": {
       "model_id": "652a8f7626464a76b1158aca5b09869d",
       "version_major": 2,
       "version_minor": 0
      },
      "text/plain": [
       "Downloading:   0%|          | 0.00/1.14k [00:00<?, ?B/s]"
      ]
     },
     "metadata": {},
     "output_type": "display_data"
    },
    {
     "data": {
      "application/vnd.jupyter.widget-view+json": {
       "model_id": "d3acf02658a643d6bdd08309d9b66e6c",
       "version_major": 2,
       "version_minor": 0
      },
      "text/plain": [
       "Downloading:   0%|          | 0.00/899k [00:00<?, ?B/s]"
      ]
     },
     "metadata": {},
     "output_type": "display_data"
    },
    {
     "data": {
      "application/vnd.jupyter.widget-view+json": {
       "model_id": "c7b1928f97784af7a3a7f1bd806d6696",
       "version_major": 2,
       "version_minor": 0
      },
      "text/plain": [
       "Downloading:   0%|          | 0.00/456k [00:00<?, ?B/s]"
      ]
     },
     "metadata": {},
     "output_type": "display_data"
    }
   ],
   "source": [
    "from transformers import LayoutLMv3Processor\n",
    "processor = LayoutLMv3Processor.from_pretrained(\"microsoft/layoutlmv3-base\", apply_ocr=False)\n",
    "processor.save_pretrained(\"/mnt/ssd500/hungbnt/DocumentClassification/weights/layoutlmv3/processor\")\n",
    "\n",
    "\n"
   ]
  },
  {
   "cell_type": "code",
   "execution_count": 6,
   "metadata": {},
   "outputs": [
    {
     "data": {
      "application/vnd.jupyter.widget-view+json": {
       "model_id": "5181b6c3864547f39a4a1f5f6cb16729",
       "version_major": 2,
       "version_minor": 0
      },
      "text/plain": [
       "Downloading:   0%|          | 0.00/501M [00:00<?, ?B/s]"
      ]
     },
     "metadata": {},
     "output_type": "display_data"
    },
    {
     "name": "stderr",
     "output_type": "stream",
     "text": [
      "Some weights of LayoutLMv3ForSequenceClassification were not initialized from the model checkpoint at microsoft/layoutlmv3-base and are newly initialized: ['classifier.dense.weight', 'classifier.dense.bias', 'classifier.out_proj.weight', 'classifier.out_proj.bias']\n",
      "You should probably TRAIN this model on a down-stream task to be able to use it for predictions and inference.\n"
     ]
    }
   ],
   "source": [
    "from transformers import LayoutLMv3ForSequenceClassification\n",
    "DOC_LABELS = ['POS01', 'POS02', 'POS03', 'POS04', 'POS05', 'POS06', 'POS08', \"DCYCBH\",\n",
    "              \"GUQ1\", \"GUQ2\", \"QLBH\", \"QLBHYT\", \"TDDG\", \"TKSK\", \"TTTK\", \"XNDY\", \"YCBH\"]\n",
    "model = LayoutLMv3ForSequenceClassification.from_pretrained(\"microsoft/layoutlmv3-base\", num_labels=len(DOC_LABELS))\n",
    "model.save_pretrained(\"/mnt/ssd500/hungbnt/DocumentClassification/weights/layoutlmv3/pretrained\")"
   ]
  },
  {
   "cell_type": "code",
   "execution_count": 2,
   "metadata": {},
   "outputs": [
    {
     "data": {
      "text/plain": [
       "('/mnt/ssd500/hungbnt/DocumentClassification/weights/layoutxlm/tokenizer/tokenizer_config.json',\n",
       " '/mnt/ssd500/hungbnt/DocumentClassification/weights/layoutxlm/tokenizer/special_tokens_map.json',\n",
       " '/mnt/ssd500/hungbnt/DocumentClassification/weights/layoutxlm/tokenizer/sentencepiece.bpe.model',\n",
       " '/mnt/ssd500/hungbnt/DocumentClassification/weights/layoutxlm/tokenizer/added_tokens.json')"
      ]
     },
     "execution_count": 2,
     "metadata": {},
     "output_type": "execute_result"
    }
   ],
   "source": [
    "from transformers import LayoutXLMTokenizer, LayoutLMv2FeatureExtractor, LayoutXLMProcessor\n",
    "tokenizer = LayoutXLMTokenizer.from_pretrained(\"microsoft/layoutxlm-base\")\n",
    "tokenizer.save_pretrained(\"/mnt/ssd500/hungbnt/DocumentClassification/weights/layoutxlm/tokenizer\")\n"
   ]
  },
  {
   "cell_type": "code",
   "execution_count": null,
   "metadata": {},
   "outputs": [],
   "source": []
  },
  {
   "cell_type": "code",
   "execution_count": null,
   "metadata": {},
   "outputs": [],
   "source": [
    "from transformers import LayoutLMv2ForSequenceClassification\n",
    "DOC_LABELS = ['POS01', 'POS02', 'POS03', 'POS04', 'POS05', 'POS06', 'POS08', \"DCYCBH\",\n",
    "              \"GUQ1\", \"GUQ2\", \"QLBH\", \"QLBHYT\", \"TDDG\", \"TKSK\", \"TTTK\", \"XNDY\", \"YCBH\"]\n",
    "model = LayoutLMv2ForSequenceClassification.from_pretrained(\"microsoft/layoutxlm-base\", num_labels=len(DOC_LABELS), local_files_only=False)\n",
    "# model.save_pretrained(\"/mnt/ssd500/hungbnt/DocumentClassification/weights/layoutxlm/pretrained\")"
   ]
  },
  {
   "cell_type": "code",
   "execution_count": 10,
   "metadata": {},
   "outputs": [],
   "source": [
    "model.save_pretrained(\"/mnt/ssd500/hungbnt/DocumentClassification/weights/layoutxlm/pretrained\")"
   ]
  },
  {
   "cell_type": "code",
   "execution_count": null,
   "metadata": {},
   "outputs": [],
   "source": []
  },
  {
   "cell_type": "code",
   "execution_count": 1,
   "metadata": {},
   "outputs": [],
   "source": [
    "from src.models.lilt.load_data import CustomDataset, load_train_eval_df, collate_fn\n",
    "from config.lilt_base import LILT_CFG\n",
    "df_path = LILT_CFG[\"data\"][\"df_path\"]\n",
    "pretrained_tokenizer_path = LILT_CFG[\"data\"][\"pretrained_tokenizer_path\"]\n",
    "max_seq_len = LILT_CFG[\"data\"][\"max_seq_len\"]\n",
    "labels = LILT_CFG[\"data\"][\"labels\"]\n",
    "\n"
   ]
  },
  {
   "cell_type": "code",
   "execution_count": 2,
   "metadata": {},
   "outputs": [],
   "source": [
    "from transformers import PhobertTokenizer\n",
    "tokenizer = PhobertTokenizer.from_pretrained(pretrained_tokenizer_path)"
   ]
  },
  {
   "cell_type": "code",
   "execution_count": 3,
   "metadata": {},
   "outputs": [],
   "source": [
    "import pandas as pd\n",
    "df = pd.read_csv(df_path, index_col=None)\n",
    "dataset = CustomDataset(df, tokenizer, max_seq_len, labels)"
   ]
  },
  {
   "cell_type": "code",
   "execution_count": 4,
   "metadata": {},
   "outputs": [],
   "source": [
    "example = dataset[0]\n"
   ]
  },
  {
   "cell_type": "code",
   "execution_count": 5,
   "metadata": {},
   "outputs": [
    {
     "data": {
      "text/plain": [
       "'<s> insurance Công ty TNHH Bảo hiểm Nhân thọ FWD Việt Nam Mẫu số: NBU-WSIG_2022.09 XÁC NHÂN ĐỒNG Ý SỞ DỤNG HỒ SƠ YÊU CẦU BẢO HIỂM ĐIỆN TỬ VÀ GIAO DỊCH ĐIỆN TỬ Kính gửi: Công ty TNHH Bảo hiểm Nhân thọ FWD Việt Nam (\"FWD Việt Nam\") Bên mua bảo hiểm: Trinh Văn Quyết Số Hợp đồng: 1 12345678 Số giấy tờ tùy thân: 11 170028487010 Số HSYCBH: Số điện thoại xác thực OTP: 10 0186617767 Email: quyết(a samsang com Lưu ý: Các thông tin Số CMND/CCCD/Hộ chiếu, Email liên lạc và Số điện thoại xác thực OTP được kê khai trên Xác nhận này phải là các thông tin được đăng ký và cung cấp trong HSYCBH. Bằng việc ký tên dưới đây, Tôi/Chúng tôi - những người có tên và thông tin ghi trong HSYCBH/Hợp đồng có số hiệu nêu trên, cùng xác nhận đã được Tư vấn tài chính giải thích, hiểu và đồng ý với tất cả các nội dung dưới đây: b 1 Tôi/Chúng tôi có nhu cầu tham gia bảo hiểm trên tinh thần tự nguyện, đã đọc và được nghe Tư vấn tài chính giải thích về qui trình giao dịch điện tử qua ứng dụng/trên trang \"FWD SMART\" của FWD Việt Nam, và đồng ý thực hiện giao dịch nộp Hồ sơ yêu cầu bảo hiểm thông qua \"FWD SMART\" để tham gia bảo hiểm với FWD Việt Nam. > 2 Tôi/Chúng tôi đã kê khai thông tin được yêu cầu và kiểm tra lại các nội dung đã được kê khai trước khi xác nhận đồng ý nộp Hồ sơ yêu cầu bảo hiểm này thông qua \"FWD SMART\". Các thông tin này sẽ được FWD Việt Nam dùng làm căn cứ cho việc thẩm định và phát hành Hợp đồng bảo hiểm. Giao dịch nộp Hồ SƠ yêu cầu bảo hiểm được Tôi/Chúng tôi xác nhận bằng mã xác thực một lần (OTP) sử dụng số điện thoại di động tương ứng của Tôi/Chúng tôi được cung cấp trong xác nhận này. I 3 Cùng với việc nộp Hồ sơ yêu cầu bảo hiểm, Tôi/Chúng tôi xác nhận rằng có </s>'"
      ]
     },
     "execution_count": 5,
     "metadata": {},
     "output_type": "execute_result"
    }
   ],
   "source": [
    "tokenizer.decode(example[\"input_ids\"])\n"
   ]
  },
  {
   "cell_type": "code",
   "execution_count": 6,
   "metadata": {},
   "outputs": [
    {
     "name": "stdout",
     "output_type": "stream",
     "text": [
      "<s> [0, 0, 0, 0]\n",
      "insu@@ [782, 123, 871, 135]\n",
      "rance [782, 123, 871, 135]\n",
      "Công [66, 133, 416, 147]\n",
      "ty [66, 133, 416, 147]\n",
      "TNHH [66, 133, 416, 147]\n",
      "Bảo [66, 133, 416, 147]\n",
      "hiểm [66, 133, 416, 147]\n",
      "Nhân [66, 133, 416, 147]\n",
      "thọ [66, 133, 416, 147]\n",
      "F@@ [66, 133, 416, 147]\n",
      "WD [66, 133, 416, 147]\n",
      "Việt [66, 133, 416, 147]\n",
      "Nam [66, 133, 416, 147]\n",
      "Mẫu [65, 147, 122, 158]\n",
      "số@@ [65, 147, 122, 158]\n",
      ": [65, 147, 122, 158]\n",
      "N@@ [125, 148, 268, 159]\n",
      "B@@ [125, 148, 268, 159]\n",
      "U-@@ [125, 148, 268, 159]\n",
      "W@@ [125, 148, 268, 159]\n",
      "SI@@ [125, 148, 268, 159]\n",
      "G@@ [125, 148, 268, 159]\n",
      "_@@ [125, 148, 268, 159]\n",
      "20@@ [125, 148, 268, 159]\n",
      "22.0@@ [125, 148, 268, 159]\n",
      "9 [125, 148, 268, 159]\n",
      "X@@ [402, 175, 533, 195]\n",
      "Á@@ [402, 175, 533, 195]\n",
      "C [402, 175, 533, 195]\n",
      "NHÂN [402, 175, 533, 195]\n",
      "Đ@@ [99, 197, 882, 218]\n",
      "ỒNG [99, 197, 882, 218]\n",
      "Ý [99, 197, 882, 218]\n",
      "S@@ [99, 197, 882, 218]\n",
      "Ở [99, 197, 882, 218]\n",
      "D@@ [99, 197, 882, 218]\n",
      "Ụ@@ [99, 197, 882, 218]\n",
      "NG [99, 197, 882, 218]\n",
      "H@@ [99, 197, 882, 218]\n",
      "Ồ [99, 197, 882, 218]\n",
      "S@@ [99, 197, 882, 218]\n",
      "Ơ [99, 197, 882, 218]\n",
      "Y@@ [99, 197, 882, 218]\n",
      "ÊU [99, 197, 882, 218]\n",
      "C@@ [99, 197, 882, 218]\n",
      "Ầ@@ [99, 197, 882, 218]\n",
      "U [99, 197, 882, 218]\n",
      "BẢO [99, 197, 882, 218]\n",
      "HI@@ [99, 197, 882, 218]\n",
      "Ể@@ [99, 197, 882, 218]\n",
      "M [99, 197, 882, 218]\n",
      "Đ@@ [99, 197, 882, 218]\n",
      "IỆN [99, 197, 882, 218]\n",
      "T@@ [99, 197, 882, 218]\n",
      "Ử [99, 197, 882, 218]\n",
      "VÀ [99, 197, 882, 218]\n",
      "GIA@@ [99, 197, 882, 218]\n",
      "O [99, 197, 882, 218]\n",
      "D@@ [99, 197, 882, 218]\n",
      "Ị@@ [99, 197, 882, 218]\n",
      "CH [99, 197, 882, 218]\n",
      "Đ@@ [99, 197, 882, 218]\n",
      "IỆN [99, 197, 882, 218]\n",
      "T@@ [99, 197, 882, 218]\n",
      "Ử [99, 197, 882, 218]\n",
      "Kính [64, 234, 126, 248]\n",
      "g@@ [64, 234, 126, 248]\n",
      "ử@@ [64, 234, 126, 248]\n",
      "i@@ [64, 234, 126, 248]\n",
      ": [64, 234, 126, 248]\n",
      "Công [128, 233, 602, 248]\n",
      "ty [128, 233, 602, 248]\n",
      "TNHH [128, 233, 602, 248]\n",
      "Bảo [128, 233, 602, 248]\n",
      "hiểm [128, 233, 602, 248]\n",
      "Nhân [128, 233, 602, 248]\n",
      "thọ [128, 233, 602, 248]\n",
      "F@@ [128, 233, 602, 248]\n",
      "WD [128, 233, 602, 248]\n",
      "Việt [128, 233, 602, 248]\n",
      "Nam [128, 233, 602, 248]\n",
      "(@@ [128, 233, 602, 248]\n",
      "\"@@ [128, 233, 602, 248]\n",
      "F@@ [128, 233, 602, 248]\n",
      "WD [128, 233, 602, 248]\n",
      "Việt [128, 233, 602, 248]\n",
      "Nam@@ [128, 233, 602, 248]\n",
      "\"@@ [128, 233, 602, 248]\n",
      ") [128, 233, 602, 248]\n",
      "Bên [63, 260, 194, 274]\n",
      "mua [63, 260, 194, 274]\n",
      "bảo [63, 260, 194, 274]\n",
      "hiể@@ [63, 260, 194, 274]\n",
      "m@@ [63, 260, 194, 274]\n",
      ": [63, 260, 194, 274]\n",
      "Trinh [233, 249, 406, 278]\n",
      "Văn [233, 249, 406, 278]\n",
      "Quyết [233, 249, 406, 278]\n",
      "Số [515, 260, 611, 275]\n",
      "Hợp [515, 260, 611, 275]\n",
      "đồ@@ [515, 260, 611, 275]\n",
      "ng@@ [515, 260, 611, 275]\n",
      ": [515, 260, 611, 275]\n",
      "1 [611, 253, 819, 274]\n",
      "123@@ [611, 253, 819, 274]\n",
      "45@@ [611, 253, 819, 274]\n",
      "678 [611, 253, 819, 274]\n",
      "Số [62, 287, 195, 303]\n",
      "giấy [62, 287, 195, 303]\n",
      "tờ [62, 287, 195, 303]\n",
      "tù@@ [62, 287, 195, 303]\n",
      "y [62, 287, 195, 303]\n",
      "thâ@@ [62, 287, 195, 303]\n",
      "n@@ [62, 287, 195, 303]\n",
      ": [62, 287, 195, 303]\n",
      "11 [205, 279, 607, 303]\n",
      "17@@ [205, 279, 607, 303]\n",
      "00@@ [205, 279, 607, 303]\n",
      "28@@ [205, 279, 607, 303]\n",
      "48@@ [205, 279, 607, 303]\n",
      "70@@ [205, 279, 607, 303]\n",
      "10 [205, 279, 607, 303]\n",
      "Số [205, 279, 607, 303]\n",
      "HS@@ [205, 279, 607, 303]\n",
      "Y@@ [205, 279, 607, 303]\n",
      "C@@ [205, 279, 607, 303]\n",
      "BH@@ [205, 279, 607, 303]\n",
      ": [205, 279, 607, 303]\n",
      "Số [61, 314, 251, 329]\n",
      "điện [61, 314, 251, 329]\n",
      "thoại [61, 314, 251, 329]\n",
      "xác [61, 314, 251, 329]\n",
      "thực [61, 314, 251, 329]\n",
      "O@@ [61, 314, 251, 329]\n",
      "TP@@ [61, 314, 251, 329]\n",
      ": [61, 314, 251, 329]\n",
      "10 [254, 306, 559, 330]\n",
      "0@@ [254, 306, 559, 330]\n",
      "18@@ [254, 306, 559, 330]\n",
      "66@@ [254, 306, 559, 330]\n",
      "17@@ [254, 306, 559, 330]\n",
      "767 [254, 306, 559, 330]\n",
      "Email@@ [254, 306, 559, 330]\n",
      ": [254, 306, 559, 330]\n",
      "quy@@ [617, 306, 833, 333]\n",
      "ế@@ [617, 306, 833, 333]\n",
      "t@@ [617, 306, 833, 333]\n",
      "(@@ [617, 306, 833, 333]\n",
      "a [617, 306, 833, 333]\n",
      "sam@@ [617, 306, 833, 333]\n",
      "sang [617, 306, 833, 333]\n",
      "com [617, 306, 833, 333]\n",
      "Lưu [61, 339, 100, 351]\n",
      "ý@@ [61, 339, 100, 351]\n",
      ": [61, 339, 100, 351]\n",
      "Các [100, 339, 915, 352]\n",
      "thông [100, 339, 915, 352]\n",
      "tin [100, 339, 915, 352]\n",
      "Số [100, 339, 915, 352]\n",
      "CM@@ [100, 339, 915, 352]\n",
      "ND@@ [100, 339, 915, 352]\n",
      "/@@ [100, 339, 915, 352]\n",
      "CC@@ [100, 339, 915, 352]\n",
      "CD@@ [100, 339, 915, 352]\n",
      "/@@ [100, 339, 915, 352]\n",
      "Hộ [100, 339, 915, 352]\n",
      "chiế@@ [100, 339, 915, 352]\n",
      "u@@ [100, 339, 915, 352]\n",
      ", [100, 339, 915, 352]\n",
      "Email [100, 339, 915, 352]\n",
      "liên [100, 339, 915, 352]\n",
      "lạc [100, 339, 915, 352]\n",
      "và [100, 339, 915, 352]\n",
      "Số [100, 339, 915, 352]\n",
      "điện [100, 339, 915, 352]\n",
      "thoại [100, 339, 915, 352]\n",
      "xác [100, 339, 915, 352]\n",
      "thực [100, 339, 915, 352]\n",
      "OTP [100, 339, 915, 352]\n",
      "được [100, 339, 915, 352]\n",
      "kê [100, 339, 915, 352]\n",
      "khai [100, 339, 915, 352]\n",
      "trên [100, 339, 915, 352]\n",
      "Xác [100, 339, 915, 352]\n",
      "nhận [100, 339, 915, 352]\n",
      "này [100, 339, 915, 352]\n",
      "phải [100, 339, 915, 352]\n",
      "là [100, 339, 915, 352]\n",
      "các [100, 339, 915, 352]\n",
      "thông [100, 339, 915, 352]\n",
      "tin [100, 339, 915, 352]\n",
      "được [100, 339, 915, 352]\n",
      "đăng [100, 339, 915, 352]\n",
      "ký [61, 351, 233, 363]\n",
      "và [61, 351, 233, 363]\n",
      "cung [61, 351, 233, 363]\n",
      "cấp [61, 351, 233, 363]\n",
      "trong [61, 351, 233, 363]\n",
      "HS@@ [61, 351, 233, 363]\n",
      "Y@@ [61, 351, 233, 363]\n",
      "C@@ [61, 351, 233, 363]\n",
      "BH@@ [61, 351, 233, 363]\n",
      ". [61, 351, 233, 363]\n",
      "Bằng [62, 372, 914, 386]\n",
      "việc [62, 372, 914, 386]\n",
      "ký [62, 372, 914, 386]\n",
      "tên [62, 372, 914, 386]\n",
      "dưới [62, 372, 914, 386]\n",
      "đâ@@ [62, 372, 914, 386]\n",
      "y@@ [62, 372, 914, 386]\n",
      ", [62, 372, 914, 386]\n",
      "Tô@@ [62, 372, 914, 386]\n",
      "i@@ [62, 372, 914, 386]\n",
      "/@@ [62, 372, 914, 386]\n",
      "Chúng [62, 372, 914, 386]\n",
      "tôi [62, 372, 914, 386]\n",
      "- [62, 372, 914, 386]\n",
      "những [62, 372, 914, 386]\n",
      "người [62, 372, 914, 386]\n",
      "có [62, 372, 914, 386]\n",
      "tên [62, 372, 914, 386]\n",
      "và [62, 372, 914, 386]\n",
      "thông [62, 372, 914, 386]\n",
      "tin [62, 372, 914, 386]\n",
      "ghi [62, 372, 914, 386]\n",
      "trong [62, 372, 914, 386]\n",
      "HS@@ [62, 372, 914, 386]\n",
      "Y@@ [62, 372, 914, 386]\n",
      "C@@ [62, 372, 914, 386]\n",
      "BH@@ [62, 372, 914, 386]\n",
      "/@@ [62, 372, 914, 386]\n",
      "Hợp [62, 372, 914, 386]\n",
      "đồng [62, 372, 914, 386]\n",
      "có [62, 372, 914, 386]\n",
      "số [62, 372, 914, 386]\n",
      "hiệu [62, 372, 914, 386]\n",
      "nêu [62, 372, 914, 386]\n",
      "trê@@ [62, 372, 914, 386]\n",
      "n@@ [62, 372, 914, 386]\n",
      ", [62, 372, 914, 386]\n",
      "cùng [61, 386, 730, 400]\n",
      "xác [61, 386, 730, 400]\n",
      "nhận [61, 386, 730, 400]\n",
      "đã [61, 386, 730, 400]\n",
      "được [61, 386, 730, 400]\n",
      "Tư [61, 386, 730, 400]\n",
      "vấn [61, 386, 730, 400]\n",
      "tài [61, 386, 730, 400]\n",
      "chính [61, 386, 730, 400]\n",
      "giải [61, 386, 730, 400]\n",
      "thí@@ [61, 386, 730, 400]\n",
      "ch@@ [61, 386, 730, 400]\n",
      ", [61, 386, 730, 400]\n",
      "hiểu [61, 386, 730, 400]\n",
      "và [61, 386, 730, 400]\n",
      "đồng [61, 386, 730, 400]\n",
      "ý [61, 386, 730, 400]\n",
      "với [61, 386, 730, 400]\n",
      "tất [61, 386, 730, 400]\n",
      "cả [61, 386, 730, 400]\n",
      "các [61, 386, 730, 400]\n",
      "nội [61, 386, 730, 400]\n",
      "dung [61, 386, 730, 400]\n",
      "dưới [61, 386, 730, 400]\n",
      "đâ@@ [61, 386, 730, 400]\n",
      "y@@ [61, 386, 730, 400]\n",
      ": [61, 386, 730, 400]\n",
      "b [65, 407, 91, 420]\n",
      "1 [65, 407, 91, 420]\n",
      "Tô@@ [94, 419, 880, 434]\n",
      "i@@ [94, 419, 880, 434]\n",
      "/@@ [94, 419, 880, 434]\n",
      "Chúng [94, 419, 880, 434]\n",
      "tôi [94, 419, 880, 434]\n",
      "có [94, 419, 880, 434]\n",
      "nhu [94, 419, 880, 434]\n",
      "cầu [94, 419, 880, 434]\n",
      "tham [94, 419, 880, 434]\n",
      "gia [94, 419, 880, 434]\n",
      "bảo [94, 419, 880, 434]\n",
      "hiểm [94, 419, 880, 434]\n",
      "trên [94, 419, 880, 434]\n",
      "tinh [94, 419, 880, 434]\n",
      "thần [94, 419, 880, 434]\n",
      "tự [94, 419, 880, 434]\n",
      "nguy@@ [94, 419, 880, 434]\n",
      "ệ@@ [94, 419, 880, 434]\n",
      "n@@ [94, 419, 880, 434]\n",
      ", [94, 419, 880, 434]\n",
      "đã [94, 419, 880, 434]\n",
      "đọc [94, 419, 880, 434]\n",
      "và [94, 419, 880, 434]\n",
      "được [94, 419, 880, 434]\n",
      "nghe [94, 419, 880, 434]\n",
      "Tư [94, 419, 880, 434]\n",
      "vấn [94, 419, 880, 434]\n",
      "tài [94, 419, 880, 434]\n",
      "chính [94, 419, 880, 434]\n",
      "giải [94, 419, 880, 434]\n",
      "thích [93, 434, 880, 448]\n",
      "về [93, 434, 880, 448]\n",
      "qui [93, 434, 880, 448]\n",
      "trình [93, 434, 880, 448]\n",
      "giao [93, 434, 880, 448]\n",
      "dịch [93, 434, 880, 448]\n",
      "điện [93, 434, 880, 448]\n",
      "tử [93, 434, 880, 448]\n",
      "qua [93, 434, 880, 448]\n",
      "ứng [93, 434, 880, 448]\n",
      "dụ@@ [93, 434, 880, 448]\n",
      "ng@@ [93, 434, 880, 448]\n",
      "/@@ [93, 434, 880, 448]\n",
      "trên [93, 434, 880, 448]\n",
      "trang [93, 434, 880, 448]\n",
      "\"@@ [93, 434, 880, 448]\n",
      "F@@ [93, 434, 880, 448]\n",
      "WD [93, 434, 880, 448]\n",
      "SM@@ [93, 434, 880, 448]\n",
      "AR@@ [93, 434, 880, 448]\n",
      "T@@ [93, 434, 880, 448]\n",
      "\" [93, 434, 880, 448]\n",
      "của [93, 434, 880, 448]\n",
      "F@@ [93, 434, 880, 448]\n",
      "WD [93, 434, 880, 448]\n",
      "Việt [93, 434, 880, 448]\n",
      "Nam@@ [93, 434, 880, 448]\n",
      ", [93, 434, 880, 448]\n",
      "và [93, 434, 880, 448]\n",
      "đồng [93, 434, 880, 448]\n",
      "ý [93, 434, 880, 448]\n",
      "thực [93, 434, 880, 448]\n",
      "hiện [93, 447, 867, 462]\n",
      "giao [93, 447, 867, 462]\n",
      "dịch [93, 447, 867, 462]\n",
      "nộp [93, 447, 867, 462]\n",
      "Hồ [93, 447, 867, 462]\n",
      "sơ [93, 447, 867, 462]\n",
      "yêu [93, 447, 867, 462]\n",
      "cầu [93, 447, 867, 462]\n",
      "bảo [93, 447, 867, 462]\n",
      "hiểm [93, 447, 867, 462]\n",
      "thông [93, 447, 867, 462]\n",
      "qua [93, 447, 867, 462]\n",
      "\"@@ [93, 447, 867, 462]\n",
      "F@@ [93, 447, 867, 462]\n",
      "WD [93, 447, 867, 462]\n",
      "SM@@ [93, 447, 867, 462]\n",
      "AR@@ [93, 447, 867, 462]\n",
      "T@@ [93, 447, 867, 462]\n",
      "\" [93, 447, 867, 462]\n",
      "để [93, 447, 867, 462]\n",
      "tham [93, 447, 867, 462]\n",
      "gia [93, 447, 867, 462]\n",
      "bảo [93, 447, 867, 462]\n",
      "hiểm [93, 447, 867, 462]\n",
      "với [93, 447, 867, 462]\n",
      "F@@ [93, 447, 867, 462]\n",
      "WD [93, 447, 867, 462]\n",
      "Việt [93, 447, 867, 462]\n",
      "Nam. [93, 447, 867, 462]\n",
      "> [65, 475, 94, 489]\n",
      "2 [65, 475, 94, 489]\n",
      "Tô@@ [94, 487, 879, 501]\n",
      "i@@ [94, 487, 879, 501]\n",
      "/@@ [94, 487, 879, 501]\n",
      "Chúng [94, 487, 879, 501]\n",
      "tôi [94, 487, 879, 501]\n",
      "đã [94, 487, 879, 501]\n",
      "kê [94, 487, 879, 501]\n",
      "khai [94, 487, 879, 501]\n",
      "thông [94, 487, 879, 501]\n",
      "tin [94, 487, 879, 501]\n",
      "được [94, 487, 879, 501]\n",
      "yêu [94, 487, 879, 501]\n",
      "cầu [94, 487, 879, 501]\n",
      "và [94, 487, 879, 501]\n",
      "kiểm [94, 487, 879, 501]\n",
      "tra [94, 487, 879, 501]\n",
      "lại [94, 487, 879, 501]\n",
      "các [94, 487, 879, 501]\n",
      "nội [94, 487, 879, 501]\n",
      "dung [94, 487, 879, 501]\n",
      "đã [94, 487, 879, 501]\n",
      "được [94, 487, 879, 501]\n",
      "kê [94, 487, 879, 501]\n",
      "khai [94, 487, 879, 501]\n",
      "trước [94, 487, 879, 501]\n",
      "khi [94, 487, 879, 501]\n",
      "xác [94, 487, 879, 501]\n",
      "nhận [94, 487, 879, 501]\n",
      "đồng [93, 501, 880, 515]\n",
      "ý [93, 501, 880, 515]\n",
      "nộp [93, 501, 880, 515]\n",
      "Hồ [93, 501, 880, 515]\n",
      "sơ [93, 501, 880, 515]\n",
      "yêu [93, 501, 880, 515]\n",
      "cầu [93, 501, 880, 515]\n",
      "bảo [93, 501, 880, 515]\n",
      "hiểm [93, 501, 880, 515]\n",
      "này [93, 501, 880, 515]\n",
      "thông [93, 501, 880, 515]\n",
      "qua [93, 501, 880, 515]\n",
      "\"@@ [93, 501, 880, 515]\n",
      "F@@ [93, 501, 880, 515]\n",
      "WD [93, 501, 880, 515]\n",
      "SM@@ [93, 501, 880, 515]\n",
      "AR@@ [93, 501, 880, 515]\n",
      "T@@ [93, 501, 880, 515]\n",
      "\"@@ [93, 501, 880, 515]\n",
      ". [93, 501, 880, 515]\n",
      "Các [93, 501, 880, 515]\n",
      "thông [93, 501, 880, 515]\n",
      "tin [93, 501, 880, 515]\n",
      "này [93, 501, 880, 515]\n",
      "sẽ [93, 501, 880, 515]\n",
      "được [93, 501, 880, 515]\n",
      "F@@ [93, 501, 880, 515]\n",
      "WD [93, 501, 880, 515]\n",
      "Việt [93, 501, 880, 515]\n",
      "Nam [93, 501, 880, 515]\n",
      "dùng [93, 501, 880, 515]\n",
      "làm [91, 514, 879, 528]\n",
      "căn [91, 514, 879, 528]\n",
      "cứ [91, 514, 879, 528]\n",
      "cho [91, 514, 879, 528]\n",
      "việc [91, 514, 879, 528]\n",
      "thẩm [91, 514, 879, 528]\n",
      "định [91, 514, 879, 528]\n",
      "và [91, 514, 879, 528]\n",
      "phát [91, 514, 879, 528]\n",
      "hành [91, 514, 879, 528]\n",
      "Hợp [91, 514, 879, 528]\n",
      "đồng [91, 514, 879, 528]\n",
      "bảo [91, 514, 879, 528]\n",
      "hiể@@ [91, 514, 879, 528]\n",
      "m. [91, 514, 879, 528]\n",
      "Giao [91, 514, 879, 528]\n",
      "dịch [91, 514, 879, 528]\n",
      "nộp [91, 514, 879, 528]\n",
      "Hồ [91, 514, 879, 528]\n",
      "S@@ [91, 514, 879, 528]\n",
      "Ơ [91, 514, 879, 528]\n",
      "yêu [91, 514, 879, 528]\n",
      "cầu [91, 514, 879, 528]\n",
      "bảo [91, 514, 879, 528]\n",
      "hiểm [91, 514, 879, 528]\n",
      "được [91, 514, 879, 528]\n",
      "Tô@@ [93, 528, 879, 542]\n",
      "i@@ [93, 528, 879, 542]\n",
      "/@@ [93, 528, 879, 542]\n",
      "Chúng [93, 528, 879, 542]\n",
      "tôi [93, 528, 879, 542]\n",
      "xác [93, 528, 879, 542]\n",
      "nhận [93, 528, 879, 542]\n",
      "bằng [93, 528, 879, 542]\n",
      "mã [93, 528, 879, 542]\n",
      "xác [93, 528, 879, 542]\n",
      "thực [93, 528, 879, 542]\n",
      "một [93, 528, 879, 542]\n",
      "lần [93, 528, 879, 542]\n",
      "(@@ [93, 528, 879, 542]\n",
      "O@@ [93, 528, 879, 542]\n",
      "TP@@ [93, 528, 879, 542]\n",
      ") [93, 528, 879, 542]\n",
      "sử [93, 528, 879, 542]\n",
      "dụng [93, 528, 879, 542]\n",
      "số [93, 528, 879, 542]\n",
      "điện [93, 528, 879, 542]\n",
      "thoại [93, 528, 879, 542]\n",
      "di [93, 528, 879, 542]\n",
      "động [93, 528, 879, 542]\n",
      "tương [93, 528, 879, 542]\n",
      "ứng [93, 528, 879, 542]\n",
      "của [93, 528, 879, 542]\n",
      "Tô@@ [93, 528, 879, 542]\n",
      "i@@ [93, 528, 879, 542]\n",
      "/@@ [93, 528, 879, 542]\n",
      "Chúng [93, 528, 879, 542]\n",
      "tôi [91, 541, 359, 555]\n",
      "được [91, 541, 359, 555]\n",
      "cung [91, 541, 359, 555]\n",
      "cấp [91, 541, 359, 555]\n",
      "trong [91, 541, 359, 555]\n",
      "xác [91, 541, 359, 555]\n",
      "nhận [91, 541, 359, 555]\n",
      "nà@@ [91, 541, 359, 555]\n",
      "y. [91, 541, 359, 555]\n",
      "I [64, 570, 75, 582]\n",
      "3 [77, 569, 91, 582]\n",
      "Cùng [93, 580, 878, 595]\n",
      "với [93, 580, 878, 595]\n",
      "việc [93, 580, 878, 595]\n",
      "nộp [93, 580, 878, 595]\n",
      "Hồ [93, 580, 878, 595]\n",
      "sơ [93, 580, 878, 595]\n",
      "yêu [93, 580, 878, 595]\n",
      "cầu [93, 580, 878, 595]\n",
      "bảo [93, 580, 878, 595]\n",
      "hiể@@ [93, 580, 878, 595]\n",
      "m@@ [93, 580, 878, 595]\n",
      ", [93, 580, 878, 595]\n",
      "Tô@@ [93, 580, 878, 595]\n",
      "i@@ [93, 580, 878, 595]\n",
      "/@@ [93, 580, 878, 595]\n",
      "Chúng [93, 580, 878, 595]\n",
      "tôi [93, 580, 878, 595]\n",
      "xác [93, 580, 878, 595]\n",
      "nhận [93, 580, 878, 595]\n",
      "rằng [93, 580, 878, 595]\n",
      "có [93, 580, 878, 595]\n",
      "</s> [93, 580, 878, 595]\n"
     ]
    }
   ],
   "source": [
    "for id, box in zip(example[\"input_ids\"], example[\"bbox\"]):\n",
    "    print(tokenizer.decode([id]), box)"
   ]
  },
  {
   "cell_type": "code",
   "execution_count": 7,
   "metadata": {},
   "outputs": [],
   "source": [
    "from torch.utils.data import DataLoader\n",
    "from functools import partial\n",
    "collate_fn_default = partial(collate_fn, max_seq_len=512, tokenizer=tokenizer)\n",
    "train_dataloader = DataLoader(dataset, batch_size=4, collate_fn=collate_fn_default, num_workers=1)\n"
   ]
  },
  {
   "cell_type": "code",
   "execution_count": 8,
   "metadata": {},
   "outputs": [
    {
     "name": "stdout",
     "output_type": "stream",
     "text": [
      "input_ids torch.Size([4, 512])\n",
      "token_type_ids torch.Size([4, 512])\n",
      "attention_mask torch.Size([4, 512])\n",
      "bbox torch.Size([4, 512, 4])\n",
      "labels torch.Size([4])\n"
     ]
    },
    {
     "data": {
      "text/plain": [
       "'<s> insurance Công ty TNHH Bảo hiểm Nhân thọ FWD Việt Nam Mẫu số: NBU-WSIG_2022.09 XÁC NHÂN ĐỒNG Ý SỞ DỤNG HỒ SƠ YÊU CẦU BẢO HIỂM ĐIỆN TỬ VÀ GIAO DỊCH ĐIỆN TỬ Kính gửi: Công ty TNHH Bảo hiểm Nhân thọ FWD Việt Nam (\"FWD Việt Nam\") Bên mua bảo hiểm: Trinh Văn Quyết Số Hợp đồng: 1 12345678 Số giấy tờ tùy thân: 11 170028487010 Số HSYCBH: Số điện thoại xác thực OTP: 10 0186617767 Email: quyết(a samsang com Lưu ý: Các thông tin Số CMND/CCCD/Hộ chiếu, Email liên lạc và Số điện thoại xác thực OTP được kê khai trên Xác nhận này phải là các thông tin được đăng ký và cung cấp trong HSYCBH. Bằng việc ký tên dưới đây, Tôi/Chúng tôi - những người có tên và thông tin ghi trong HSYCBH/Hợp đồng có số hiệu nêu trên, cùng xác nhận đã được Tư vấn tài chính giải thích, hiểu và đồng ý với tất cả các nội dung dưới đây: b 1 Tôi/Chúng tôi có nhu cầu tham gia bảo hiểm trên tinh thần tự nguyện, đã đọc và được nghe Tư vấn tài chính giải thích về qui trình giao dịch điện tử qua ứng dụng/trên trang \"FWD SMART\" của FWD Việt Nam, và đồng ý thực hiện giao dịch nộp Hồ sơ yêu cầu bảo hiểm thông qua \"FWD SMART\" để tham gia bảo hiểm với FWD Việt Nam. > 2 Tôi/Chúng tôi đã kê khai thông tin được yêu cầu và kiểm tra lại các nội dung đã được kê khai trước khi xác nhận đồng ý nộp Hồ sơ yêu cầu bảo hiểm này thông qua \"FWD SMART\". Các thông tin này sẽ được FWD Việt Nam dùng làm căn cứ cho việc thẩm định và phát hành Hợp đồng bảo hiểm. Giao dịch nộp Hồ SƠ yêu cầu bảo hiểm được Tôi/Chúng tôi xác nhận bằng mã xác thực một lần (OTP) sử dụng số điện thoại di động tương ứng của Tôi/Chúng tôi được cung cấp trong xác nhận này. I 3 Cùng với việc nộp Hồ sơ yêu cầu bảo hiểm, Tôi/Chúng tôi xác nhận rằng có </s>'"
      ]
     },
     "execution_count": 8,
     "metadata": {},
     "output_type": "execute_result"
    }
   ],
   "source": [
    "batch = next(iter(train_dataloader))\n",
    "for k,v in batch.items():\n",
    "  print(k,v.shape)\n",
    "tokenizer.decode(batch[\"input_ids\"][0])\n"
   ]
  },
  {
   "cell_type": "code",
   "execution_count": 15,
   "metadata": {},
   "outputs": [
    {
     "name": "stderr",
     "output_type": "stream",
     "text": [
      "Some weights of the model checkpoint at phanhoang/lilt-phobert-base were not used when initializing LiltForSequenceClassification: ['pooler.dense.weight', 'pooler.dense.bias']\n",
      "- This IS expected if you are initializing LiltForSequenceClassification from the checkpoint of a model trained on another task or with another architecture (e.g. initializing a BertForSequenceClassification model from a BertForPreTraining model).\n",
      "- This IS NOT expected if you are initializing LiltForSequenceClassification from the checkpoint of a model that you expect to be exactly identical (initializing a BertForSequenceClassification model from a BertForSequenceClassification model).\n",
      "Some weights of LiltForSequenceClassification were not initialized from the model checkpoint at phanhoang/lilt-phobert-base and are newly initialized: ['classifier.out_proj.weight', 'classifier.out_proj.bias', 'classifier.dense.weight', 'classifier.dense.bias']\n",
      "You should probably TRAIN this model on a down-stream task to be able to use it for predictions and inference.\n"
     ]
    }
   ],
   "source": [
    "from transformers import LiltForSequenceClassification\n",
    "from config.global_var import DOC_LABELS\n",
    "id2label = {id: label for id, label in enumerate(labels)}\n",
    "label2id = {label: id for id, label in enumerate(labels)}\n",
    "# model = LiltForSequenceClassification.from_pretrained(\"phanhoang/lilt-phobert-base\", id2label=id2label, label2id=label2id)\n",
    "model = LiltForSequenceClassification.from_pretrained(\"phanhoang/lilt-phobert-base\", num_labels=len(DOC_LABELS))"
   ]
  },
  {
   "cell_type": "code",
   "execution_count": 14,
   "metadata": {},
   "outputs": [],
   "source": [
    "model.save_pretrained(\"/mnt/ssd500/hungbnt/DocumentClassification/weights/lilt/pretrained\")"
   ]
  }
 ],
 "metadata": {
  "kernelspec": {
   "display_name": "Python 3",
   "language": "python",
   "name": "python3"
  },
  "language_info": {
   "codemirror_mode": {
    "name": "ipython",
    "version": 3
   },
   "file_extension": ".py",
   "mimetype": "text/x-python",
   "name": "python",
   "nbconvert_exporter": "python",
   "pygments_lexer": "ipython3",
   "version": "3.9.7"
  },
  "orig_nbformat": 4,
  "vscode": {
   "interpreter": {
    "hash": "20c6f48f3d5b3ec1e24b93f48134dec8e918927c6339231ad9e226a930b74e39"
   }
  }
 },
 "nbformat": 4,
 "nbformat_minor": 2
}
